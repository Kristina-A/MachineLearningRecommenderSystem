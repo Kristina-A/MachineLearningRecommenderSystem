{
 "cells": [
  {
   "cell_type": "markdown",
   "metadata": {},
   "source": [
    "Loading data"
   ]
  },
  {
   "cell_type": "code",
   "execution_count": 1,
   "metadata": {},
   "outputs": [
    {
     "data": {
      "text/html": [
       "<div>\n",
       "<style scoped>\n",
       "    .dataframe tbody tr th:only-of-type {\n",
       "        vertical-align: middle;\n",
       "    }\n",
       "\n",
       "    .dataframe tbody tr th {\n",
       "        vertical-align: top;\n",
       "    }\n",
       "\n",
       "    .dataframe thead th {\n",
       "        text-align: right;\n",
       "    }\n",
       "</style>\n",
       "<table border=\"1\" class=\"dataframe\">\n",
       "  <thead>\n",
       "    <tr style=\"text-align: right;\">\n",
       "      <th></th>\n",
       "      <th>unknown</th>\n",
       "      <th>action</th>\n",
       "      <th>adventure</th>\n",
       "      <th>animation</th>\n",
       "      <th>children</th>\n",
       "      <th>comedy</th>\n",
       "      <th>crime</th>\n",
       "      <th>documentary</th>\n",
       "      <th>drama</th>\n",
       "      <th>fantasy</th>\n",
       "      <th>film-noir</th>\n",
       "      <th>horror</th>\n",
       "      <th>musical</th>\n",
       "      <th>mystery</th>\n",
       "      <th>romance</th>\n",
       "      <th>sci-fi</th>\n",
       "      <th>thriller</th>\n",
       "      <th>war</th>\n",
       "      <th>western</th>\n",
       "    </tr>\n",
       "  </thead>\n",
       "  <tbody>\n",
       "    <tr>\n",
       "      <th>1677</th>\n",
       "      <td>0</td>\n",
       "      <td>0</td>\n",
       "      <td>0</td>\n",
       "      <td>0</td>\n",
       "      <td>0</td>\n",
       "      <td>0</td>\n",
       "      <td>0</td>\n",
       "      <td>0</td>\n",
       "      <td>1</td>\n",
       "      <td>0</td>\n",
       "      <td>0</td>\n",
       "      <td>0</td>\n",
       "      <td>0</td>\n",
       "      <td>0</td>\n",
       "      <td>0</td>\n",
       "      <td>0</td>\n",
       "      <td>0</td>\n",
       "      <td>0</td>\n",
       "      <td>0</td>\n",
       "    </tr>\n",
       "    <tr>\n",
       "      <th>1678</th>\n",
       "      <td>0</td>\n",
       "      <td>0</td>\n",
       "      <td>0</td>\n",
       "      <td>0</td>\n",
       "      <td>0</td>\n",
       "      <td>0</td>\n",
       "      <td>0</td>\n",
       "      <td>0</td>\n",
       "      <td>0</td>\n",
       "      <td>0</td>\n",
       "      <td>0</td>\n",
       "      <td>0</td>\n",
       "      <td>0</td>\n",
       "      <td>0</td>\n",
       "      <td>1</td>\n",
       "      <td>0</td>\n",
       "      <td>1</td>\n",
       "      <td>0</td>\n",
       "      <td>0</td>\n",
       "    </tr>\n",
       "    <tr>\n",
       "      <th>1679</th>\n",
       "      <td>0</td>\n",
       "      <td>0</td>\n",
       "      <td>0</td>\n",
       "      <td>0</td>\n",
       "      <td>0</td>\n",
       "      <td>0</td>\n",
       "      <td>0</td>\n",
       "      <td>0</td>\n",
       "      <td>1</td>\n",
       "      <td>0</td>\n",
       "      <td>0</td>\n",
       "      <td>0</td>\n",
       "      <td>0</td>\n",
       "      <td>0</td>\n",
       "      <td>1</td>\n",
       "      <td>0</td>\n",
       "      <td>0</td>\n",
       "      <td>0</td>\n",
       "      <td>0</td>\n",
       "    </tr>\n",
       "    <tr>\n",
       "      <th>1680</th>\n",
       "      <td>0</td>\n",
       "      <td>0</td>\n",
       "      <td>0</td>\n",
       "      <td>0</td>\n",
       "      <td>0</td>\n",
       "      <td>1</td>\n",
       "      <td>0</td>\n",
       "      <td>0</td>\n",
       "      <td>0</td>\n",
       "      <td>0</td>\n",
       "      <td>0</td>\n",
       "      <td>0</td>\n",
       "      <td>0</td>\n",
       "      <td>0</td>\n",
       "      <td>0</td>\n",
       "      <td>0</td>\n",
       "      <td>0</td>\n",
       "      <td>0</td>\n",
       "      <td>0</td>\n",
       "    </tr>\n",
       "    <tr>\n",
       "      <th>1681</th>\n",
       "      <td>0</td>\n",
       "      <td>0</td>\n",
       "      <td>0</td>\n",
       "      <td>0</td>\n",
       "      <td>0</td>\n",
       "      <td>0</td>\n",
       "      <td>0</td>\n",
       "      <td>0</td>\n",
       "      <td>1</td>\n",
       "      <td>0</td>\n",
       "      <td>0</td>\n",
       "      <td>0</td>\n",
       "      <td>0</td>\n",
       "      <td>0</td>\n",
       "      <td>0</td>\n",
       "      <td>0</td>\n",
       "      <td>0</td>\n",
       "      <td>0</td>\n",
       "      <td>0</td>\n",
       "    </tr>\n",
       "  </tbody>\n",
       "</table>\n",
       "</div>"
      ],
      "text/plain": [
       "      unknown  action  adventure  animation  children  comedy  crime  \\\n",
       "1677        0       0          0          0         0       0      0   \n",
       "1678        0       0          0          0         0       0      0   \n",
       "1679        0       0          0          0         0       0      0   \n",
       "1680        0       0          0          0         0       1      0   \n",
       "1681        0       0          0          0         0       0      0   \n",
       "\n",
       "      documentary  drama  fantasy  film-noir  horror  musical  mystery  \\\n",
       "1677            0      1        0          0       0        0        0   \n",
       "1678            0      0        0          0       0        0        0   \n",
       "1679            0      1        0          0       0        0        0   \n",
       "1680            0      0        0          0       0        0        0   \n",
       "1681            0      1        0          0       0        0        0   \n",
       "\n",
       "      romance  sci-fi  thriller  war  western  \n",
       "1677        0       0         0    0        0  \n",
       "1678        1       0         1    0        0  \n",
       "1679        1       0         0    0        0  \n",
       "1680        0       0         0    0        0  \n",
       "1681        0       0         0    0        0  "
      ]
     },
     "execution_count": 1,
     "metadata": {},
     "output_type": "execute_result"
    }
   ],
   "source": [
    "import numpy as np\n",
    "import pandas as pd\n",
    "from sklearn.cluster import KMeans\n",
    "from sklearn.decomposition import TruncatedSVD\n",
    "from sklearn.neighbors import NearestNeighbors\n",
    "from sklearn.ensemble import RandomForestClassifier\n",
    "import matplotlib.pyplot as plt\n",
    "\n",
    "film_columns = ['movie_id', 'movie_title', 'release_date', 'video_release_date', 'imdb_url', \n",
    "                'unknown', 'action', 'adventure', 'animation', 'children', 'comedy', 'crime', \n",
    "                'documentary', 'drama', 'fantasy', 'film-noir', 'horror', 'musical', 'mystery', \n",
    "                'romance', 'sci-fi', 'thriller', 'war', 'western']\n",
    "films = pd.read_csv('u.item', sep='[|]', names=film_columns, engine='python')\n",
    "film_names = films[['movie_id', 'movie_title']]\n",
    "film_genres = films.drop(['movie_id', 'movie_title', 'release_date', 'video_release_date', \n",
    "                          'imdb_url'], axis=1)\n",
    "film_genres.head()\n"
   ]
  },
  {
   "cell_type": "code",
   "execution_count": 2,
   "metadata": {},
   "outputs": [
    {
     "data": {
      "text/html": [
       "<div>\n",
       "<style scoped>\n",
       "    .dataframe tbody tr th:only-of-type {\n",
       "        vertical-align: middle;\n",
       "    }\n",
       "\n",
       "    .dataframe tbody tr th {\n",
       "        vertical-align: top;\n",
       "    }\n",
       "\n",
       "    .dataframe thead th {\n",
       "        text-align: right;\n",
       "    }\n",
       "</style>\n",
       "<table border=\"1\" class=\"dataframe\">\n",
       "  <thead>\n",
       "    <tr style=\"text-align: right;\">\n",
       "      <th></th>\n",
       "      <th>user_id</th>\n",
       "      <th>movie_id</th>\n",
       "      <th>rating</th>\n",
       "    </tr>\n",
       "  </thead>\n",
       "  <tbody>\n",
       "    <tr>\n",
       "      <th>0</th>\n",
       "      <td>196</td>\n",
       "      <td>242</td>\n",
       "      <td>3</td>\n",
       "    </tr>\n",
       "    <tr>\n",
       "      <th>1</th>\n",
       "      <td>186</td>\n",
       "      <td>302</td>\n",
       "      <td>3</td>\n",
       "    </tr>\n",
       "    <tr>\n",
       "      <th>2</th>\n",
       "      <td>22</td>\n",
       "      <td>377</td>\n",
       "      <td>1</td>\n",
       "    </tr>\n",
       "    <tr>\n",
       "      <th>3</th>\n",
       "      <td>244</td>\n",
       "      <td>51</td>\n",
       "      <td>2</td>\n",
       "    </tr>\n",
       "    <tr>\n",
       "      <th>4</th>\n",
       "      <td>166</td>\n",
       "      <td>346</td>\n",
       "      <td>1</td>\n",
       "    </tr>\n",
       "  </tbody>\n",
       "</table>\n",
       "</div>"
      ],
      "text/plain": [
       "   user_id  movie_id  rating\n",
       "0      196       242       3\n",
       "1      186       302       3\n",
       "2       22       377       1\n",
       "3      244        51       2\n",
       "4      166       346       1"
      ]
     },
     "execution_count": 2,
     "metadata": {},
     "output_type": "execute_result"
    }
   ],
   "source": [
    "data_columns = ['user_id', 'movie_id', 'rating', 'timestamp']\n",
    "data = pd.read_csv('u.data', sep='\\t', names=data_columns)\n",
    "data = data.drop('timestamp', axis=1)\n",
    "data.head()\n"
   ]
  },
  {
   "cell_type": "code",
   "execution_count": 3,
   "metadata": {},
   "outputs": [
    {
     "data": {
      "text/html": [
       "<div>\n",
       "<style scoped>\n",
       "    .dataframe tbody tr th:only-of-type {\n",
       "        vertical-align: middle;\n",
       "    }\n",
       "\n",
       "    .dataframe tbody tr th {\n",
       "        vertical-align: top;\n",
       "    }\n",
       "\n",
       "    .dataframe thead th {\n",
       "        text-align: right;\n",
       "    }\n",
       "</style>\n",
       "<table border=\"1\" class=\"dataframe\">\n",
       "  <thead>\n",
       "    <tr style=\"text-align: right;\">\n",
       "      <th></th>\n",
       "      <th>user_id</th>\n",
       "      <th>age</th>\n",
       "      <th>gender</th>\n",
       "      <th>occupation</th>\n",
       "    </tr>\n",
       "  </thead>\n",
       "  <tbody>\n",
       "    <tr>\n",
       "      <th>0</th>\n",
       "      <td>1</td>\n",
       "      <td>24</td>\n",
       "      <td>M</td>\n",
       "      <td>technician</td>\n",
       "    </tr>\n",
       "    <tr>\n",
       "      <th>1</th>\n",
       "      <td>2</td>\n",
       "      <td>53</td>\n",
       "      <td>F</td>\n",
       "      <td>other</td>\n",
       "    </tr>\n",
       "    <tr>\n",
       "      <th>2</th>\n",
       "      <td>3</td>\n",
       "      <td>23</td>\n",
       "      <td>M</td>\n",
       "      <td>writer</td>\n",
       "    </tr>\n",
       "    <tr>\n",
       "      <th>3</th>\n",
       "      <td>4</td>\n",
       "      <td>24</td>\n",
       "      <td>M</td>\n",
       "      <td>technician</td>\n",
       "    </tr>\n",
       "    <tr>\n",
       "      <th>4</th>\n",
       "      <td>5</td>\n",
       "      <td>33</td>\n",
       "      <td>F</td>\n",
       "      <td>other</td>\n",
       "    </tr>\n",
       "  </tbody>\n",
       "</table>\n",
       "</div>"
      ],
      "text/plain": [
       "   user_id  age gender  occupation\n",
       "0        1   24      M  technician\n",
       "1        2   53      F       other\n",
       "2        3   23      M      writer\n",
       "3        4   24      M  technician\n",
       "4        5   33      F       other"
      ]
     },
     "execution_count": 3,
     "metadata": {},
     "output_type": "execute_result"
    }
   ],
   "source": [
    "user_columns = ['user_id', 'age', 'gender', 'occupation', 'zip_code']\n",
    "users = pd.read_csv('u.user', sep='[|]', names=user_columns, engine='python')\n",
    "users = users.drop('zip_code', axis=1)\n",
    "users.head()\n"
   ]
  },
  {
   "cell_type": "markdown",
   "metadata": {},
   "source": [
    "Elbow method for optimal number of clusters and films clustering"
   ]
  },
  {
   "cell_type": "code",
   "execution_count": 4,
   "metadata": {},
   "outputs": [],
   "source": [
    "def ElbowMethod(data):\n",
    "    distortion = []\n",
    "    K = range(1, 25)\n",
    "    for k in K:\n",
    "        kmeanModel = KMeans(n_clusters=k)\n",
    "        kmeanModel.fit(data)\n",
    "        distortion.append(kmeanModel.inertia_)\n",
    "\n",
    "    plt.plot(K, distortion, 'bx-')\n",
    "    plt.xlabel('K')\n",
    "    plt.ylabel('Distortion')\n",
    "    plt.title('The Elbow Method showing the optimal k for films')\n",
    "    plt.show()\n"
   ]
  },
  {
   "cell_type": "code",
   "execution_count": 5,
   "metadata": {},
   "outputs": [
    {
     "data": {
      "image/png": "[encoded data removed]",
      "text/plain": [
       "<Figure size 432x288 with 1 Axes>"
      ]
     },
     "metadata": {
      "needs_background": "light"
     },
     "output_type": "display_data"
    }
   ],
   "source": [
    "ElbowMethod(film_genres)\n",
    "\n",
    "# clustering films\n",
    "kmeans = KMeans(n_clusters=12, random_state=5).fit(film_genres)\n"
   ]
  },
  {
   "cell_type": "markdown",
   "metadata": {},
   "source": [
    "Method for finding films from a certain cluster that are not rated by the user"
   ]
  },
  {
   "cell_type": "code",
   "execution_count": 6,
   "metadata": {},
   "outputs": [],
   "source": [
    "def NotRatedFilms(cluster_id, labels, user_id, data, film_id):\n",
    "    # films from same cluster (indexes of the array elements)\n",
    "    films_from_cluster = [i for i, e in enumerate(labels) if e == cluster_id and i != film_id - 1]\n",
    "    # increment indexes to get ids of the films\n",
    "    films_from_cluster = [x + 1 for x in films_from_cluster]\n",
    "    \n",
    "    # films from the cluster rated by the user\n",
    "    rated = data[(data.user_id == user_id) & (data.movie_id.isin(films_from_cluster))]\n",
    "    rated_films = rated['movie_id'].values\n",
    "    \n",
    "    recommended = []\n",
    "    for i in films_from_cluster:\n",
    "        if i not in rated_films:\n",
    "            recommended.append(i)\n",
    "    \n",
    "    return recommended\n"
   ]
  },
  {
   "cell_type": "markdown",
   "metadata": {},
   "source": [
    "Recommending films to a user based on currently watching"
   ]
  },
  {
   "cell_type": "code",
   "execution_count": 7,
   "metadata": {},
   "outputs": [
    {
     "name": "stdout",
     "output_type": "stream",
     "text": [
      "Recommended films:\n",
      "\n",
      "Get Shorty (1995)\n",
      "\n",
      "\n",
      "Birdcage, The (1996)\n",
      "\n",
      "\n",
      "Brothers McMullen, The (1995)\n",
      "\n",
      "\n",
      "Doom Generation, The (1995)\n",
      "\n",
      "\n",
      "To Wong Foo, Thanks for Everything! Julie Newmar (1995)\n",
      "\n",
      "\n",
      "Billy Madison (1995)\n",
      "\n",
      "\n",
      "Clerks (1994)\n",
      "\n",
      "\n",
      "Eat Drink Man Woman (1994)\n",
      "\n",
      "\n",
      "Santa Clause, The (1994)\n",
      "\n",
      "\n",
      "What's Eating Gilbert Grape (1993)\n",
      "\n",
      "\n"
     ]
    }
   ],
   "source": [
    "user_id = 6\n",
    "film_id = 94\n",
    "\n",
    "# find cluster to which film belongs\n",
    "cluster = kmeans.labels_[film_id - 1]\n",
    "\n",
    "# recommend films from the same cluster\n",
    "recommended = NotRatedFilms(cluster, kmeans.labels_, user_id, data, film_id)\n",
    "\n",
    "print(\"Recommended films:\")\n",
    "for i in range(0, 10):\n",
    "    print(films['movie_title'].values[recommended[i] - 1])\n"
   ]
  },
  {
   "cell_type": "markdown",
   "metadata": {},
   "source": [
    "Recommending films from the best rated cluster for a user"
   ]
  },
  {
   "cell_type": "code",
   "execution_count": 8,
   "metadata": {},
   "outputs": [
    {
     "name": "stdout",
     "output_type": "stream",
     "text": [
      "Recommended films:\n",
      "\n",
      "Four Rooms (1995)\n",
      "\n",
      "\n",
      "Seven (Se7en) (1995)\n",
      "\n",
      "\n",
      "Net, The (1995)\n",
      "\n",
      "\n",
      "Wallace & Gromit: The Best of Aardman Animation (1996)\n",
      "\n",
      "\n",
      "Basic Instinct (1992)\n",
      "\n",
      "\n"
     ]
    }
   ],
   "source": [
    "pd.options.mode.chained_assignment = None\n",
    "# adding cluster column to films data frame\n",
    "film_names['cluster'] = kmeans.labels_\n",
    "\n",
    "# selecting rated films by the user\n",
    "rated_films = data[data.user_id == user_id]\n",
    "\n",
    "# combining rated films with cluster number\n",
    "rated_films_clusters = pd.merge(rated_films, film_names, on='movie_id')\n",
    "\n",
    "# calculating average rating for each cluster\n",
    "cluster_ratings = rated_films_clusters.groupby(['cluster'], as_index=False)['rating'].mean()\n",
    "\n",
    "cluster_ratings.head()\n"
   ]
  },
  {
   "cell_type": "code",
   "execution_count": null,
   "metadata": {},
   "outputs": [],
   "source": [
    "# get best rated cluster\n",
    "best_rated_cluster = cluster_ratings['cluster'].values[cluster_ratings['rating'].idxmax()]\n",
    "\n",
    "# recommending films from the best rated cluster\n",
    "recommended = NotRatedFilms(best_rated_cluster, kmeans.labels_, user_id, data, -1)\n",
    "\n",
    "print(\"Recommended films:\")\n",
    "for i in range(0, 5):\n",
    "    print(films['movie_title'].values[recommended[i] - 1])\n"
   ]
  },
  {
   "cell_type": "markdown",
   "metadata": {},
   "source": [
    "Recommending similar movies using matrix factorization"
   ]
  },
  {
   "cell_type": "code",
   "execution_count": 9,
   "metadata": {},
   "outputs": [
    {
     "name": "stdout",
     "output_type": "stream",
     "text": [
      "Home Alone (1990)\n",
      "Recommended films:\n",
      "\n"
     ]
    },
    {
     "data": {
      "text/plain": [
       "['Santa Clause, The (1994)',\n",
       " 'Mask, The (1994)',\n",
       " 'Maverick (1994)',\n",
       " 'Mrs. Doubtfire (1993)',\n",
       " 'Three Musketeers, The (1993)',\n",
       " \"City Slickers II: The Legend of Curly's Gold (1994)\",\n",
       " 'Son in Law (1993)',\n",
       " 'Renaissance Man (1994)']"
      ]
     },
     "execution_count": 9,
     "metadata": {},
     "output_type": "execute_result"
    }
   ],
   "source": [
    "# build a utility matrix with a value for each user and each movie (0 if not rated)\n",
    "rating_crosstab = data.pivot_table(values='rating', index='user_id', columns='movie_id', \n",
    "                                   fill_value=0)\n",
    "# transpose matrix so that movies are represented by rows\n",
    "film_rating = rating_crosstab.T\n",
    "\n",
    "film_rating.head()\n"
   ]
  },
  {
   "cell_type": "code",
   "execution_count": null,
   "metadata": {},
   "outputs": [],
   "source": [
    "# use singular value decomposition\n",
    "SVD = TruncatedSVD(n_components=12, random_state=17)\n",
    "\n",
    "# use fit method to perform SVD on 'film_rating'\n",
    "resultant_matrix = SVD.fit_transform(film_rating)\n",
    "\n",
    "# calculate Pearson correlation for all movies\n",
    "corr_mat = np.corrcoef(resultant_matrix)\n",
    "\n",
    "corr_mat[:5, :5]\n"
   ]
  },
  {
   "cell_type": "code",
   "execution_count": null,
   "metadata": {},
   "outputs": [],
   "source": [
    "# recommend movies related to a certain movie\n",
    "# extract correlation of film\n",
    "corr_film = corr_mat[film_id - 1]\n",
    "\n",
    "# generate a list of movie names that have a high degree of correlation with target\n",
    "print(\"Recommended films:\")\n",
    "list(films['movie_title'].values[(corr_film < 1.0) & (corr_film > 0.95)])\n"
   ]
  },
  {
   "cell_type": "markdown",
   "metadata": {},
   "source": [
    "Recommending movies using kNN"
   ]
  },
  {
   "cell_type": "code",
   "execution_count": null,
   "metadata": {},
   "outputs": [],
   "source": [
    "genres = ['action', 'adventure', 'crime', 'mystery']\n",
    "target = film_genres[genres]\n",
    "\n",
    "# use fit method to create model\n",
    "neighbors = NearestNeighbors(n_neighbors=5).fit(target)\n",
    "\n",
    "# check the recommendation by model\n",
    "print(\"Recommended films:\")\n",
    "for i in neighbors.kneighbors([[1, 1, 1, 1]], return_distance=False)[0]:\n",
    "    print(films['movie_title'].values[i])\n"
   ]
  },
  {
   "cell_type": "markdown",
   "metadata": {},
   "source": [
    "Solving cold start problem using random forest"
   ]
  },
  {
   "cell_type": "code",
   "execution_count": null,
   "metadata": {},
   "outputs": [],
   "source": [
    "# combining rated films with cluster numbers\n",
    "rated_films_clusters = pd.merge(data, film_names, on='movie_id')\n",
    "\n",
    "# calculating average rating for each user and cluster\n",
    "cluster_ratings = rated_films_clusters.groupby(['user_id', 'cluster'], as_index=False)['rating']\\\n",
    "    .mean()\n",
    "\n",
    "cluster_ratings.head()\n"
   ]
  },
  {
   "cell_type": "code",
   "execution_count": null,
   "metadata": {},
   "outputs": [],
   "source": [
    "# finding best rated cluster for each user\n",
    "idx = cluster_ratings.groupby(['user_id'], as_index=False)['rating'].idxmax()\n",
    "cluster_ratings = cluster_ratings.loc[idx]\n",
    "\n",
    "# combine user info and best rated cluster info\n",
    "users_clusters = pd.merge(users, cluster_ratings, on='user_id')\n",
    "users_clusters = users_clusters.drop(['user_id', 'rating'], axis=1)\n",
    "\n",
    "users_clusters.head()\n"
   ]
  },
  {
   "cell_type": "code",
   "execution_count": null,
   "metadata": {},
   "outputs": [],
   "source": [
    "# change categorical information into numerical information\n",
    "categorical_features = ['gender', 'occupation']\n",
    "for col in categorical_features:\n",
    "        one_hot = pd.get_dummies(users_clusters[col])\n",
    "        column_list = []\n",
    "        for c in one_hot.columns:\n",
    "            column_list.append(col + '_' + str(c))\n",
    "        one_hot.columns = column_list\n",
    "        users_clusters = users_clusters.drop(col, axis=1)\n",
    "        users_clusters = users_clusters.join(one_hot)\n",
    "\n",
    "users_clusters.head()\n"
   ]
  },
  {
   "cell_type": "code",
   "execution_count": null,
   "metadata": {},
   "outputs": [],
   "source": [
    "# assign input and output variables\n",
    "X = users_clusters.drop('cluster', axis=1)\n",
    "y = users_clusters['cluster']\n",
    "\n",
    "# create an instance of the classifier\n",
    "rfc = RandomForestClassifier(n_estimators=800)\n",
    "\n",
    "# fit the model on training set\n",
    "rfc.fit(X, y)\n",
    "\n",
    "# make prediction\n",
    "user = [23, 1, 0, 0, 0, 0, 0, 0, 0, 0, 0, 0, 0, 0, 0, 0, 0, 1, 0, 0, 0, 0, 0, 0]\n",
    "\n",
    "# predict cluster for user and recommend films from it\n",
    "prediction = rfc.predict([user])\n",
    "recommended = NotRatedFilms(prediction, kmeans.labels_, -1, data, -1)\n",
    "\n",
    "print(\"Recommended films:\")\n",
    "for i in range(0, 10):\n",
    "    print(films['movie_title'].values[recommended[i] - 1])\n"
   ]
  }
 ],
 "metadata": {
  "kernelspec": {
   "display_name": "Python 3",
   "language": "python",
   "name": "python3"
  },
  "language_info": {
   "codemirror_mode": {
    "name": "ipython",
    "version": 3
   },
   "file_extension": ".py",
   "mimetype": "text/x-python",
   "name": "python",
   "nbconvert_exporter": "python",
   "pygments_lexer": "ipython3",
   "version": "3.7.2"
  }
 },
 "nbformat": 4,
 "nbformat_minor": 1
}
